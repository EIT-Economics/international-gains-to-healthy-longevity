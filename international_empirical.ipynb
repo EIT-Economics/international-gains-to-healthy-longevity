{
 "cells": [
  {
   "cell_type": "markdown",
   "id": "0ab95b29",
   "metadata": {},
   "source": [
    "This notebook runs `international_empirical.jl` in a notebook environment."
   ]
  },
  {
   "cell_type": "code",
   "execution_count": 5,
   "id": "d5cae022",
   "metadata": {},
   "outputs": [
    {
     "data": {
      "text/plain": [
       "Plots.GRBackend()"
      ]
     },
     "metadata": {},
     "output_type": "display_data"
    }
   ],
   "source": [
    "\"\"\"\n",
    "Quantify gains from changes in S and H across countries and time\n",
    "\t Based on baseline Murphy and Topel model with observed H and S curves\n",
    "\"\"\"\n",
    "\n",
    "cd(ENV[\"INTGPATH\"])\n",
    "\n",
    "using Statistics, Parameters, DataFrames, DataVoyager\n",
    "using QuadGK, NLsolve, Roots, FiniteDifferences, Interpolations\n",
    "using Plots, XLSX, ProgressMeter, Formatting, TableView, Latexify, LaTeXStrings\n",
    "\n",
    "# Import functions\n",
    "include(\"src/TargetingAging.jl\")\n",
    "\n",
    "# Plotting backend\n",
    "gr()"
   ]
  },
  {
   "cell_type": "code",
   "execution_count": 6,
   "id": "dd4a3af8",
   "metadata": {},
   "outputs": [
    {
     "data": {
      "text/plain": [
       "Voyager(Electron.Window(Application(Base.PipeEndpoint(RawFD(21) paused, 0 bytes waiting), Process(setenv(`\u001b[4m/Users/afajardo-ramirez/.julia/artifacts/12f3018147190ddc494f686e5fbefe8d84f16efb/Julia.app/Contents/MacOS/Julia\u001b[24m \u001b[4m/Users/afajardo-ramirez/.julia/packages/Electron/pOy6n/src/main.js\u001b[24m \u001b[4m/var/folders/l8/0dzstvdd6cl4mjpfz_6vfchc0000gp/T/jlel-65e1e40aa2a111f0049b433a775861e9\u001b[24m \u001b[4m/var/folders/l8/0dzstvdd6cl4mjpfz_6vfchc0000gp/T/jlel-sn-65e21010a2a111f00d807395eef24081\u001b[24m \u001b[4mXNxK9UOl7kaFIOzQOYGoLoSb4QCaZTRNyWn2Obgh2wrbDaMPV2K4sewQVcrHRh4DyKXTM3Cj3EFRuw3UHVgvDclMZGu/taMy+kdEIaOTQ7qbpzxkogByT3jjSYewyrWpS4rEzSnzsj7LCoOHfSECSRX8WmeeQKqj7eJQnbqHJo4=\u001b[24m`,[\"XPC_FLAGS=0x0\", \"LSCOLORS=Gxfxcxdxbxegedabagacad\", \"PATH=/Users/afajardo-ramirez/.juliaup/bin:/Users/afajardo-ramirez/.local/bin:/Users/afajardo-ramirez/miniconda3/condabin:/opt/homebrew/bin:/opt/homebrew/sbin:/usr/local/bin:/System/Cryptexes/App/usr/bin:/usr/bin:/bin:/usr/sbin:/sbin:/var/run/com.apple.security.cryptexd/codex.system/bootstrap/usr/local/bin:/var/run/com.apple.security.cryptexd/codex.system/bootstrap/usr/bin:/var/run/com.apple.security.cryptexd/codex.system/bootstrap/usr/appleinternal/bin:/Library/TeX/texbin:/usr/local/sbin:/Applications/StataNow/StataSE.app/Contents/MacOS\", \"VSCODE_CODE_CACHE_PATH=/Users/afajardo-ramirez/Library/Application Support/Code/CachedData/0f0d87fa9e96c856c5212fc86db137ac0d783365\", \"XPC_SERVICE_NAME=application.com.microsoft.VSCode.12067885.12067891\", \"HOMEBREW_PREFIX=/opt/homebrew\", \"VSCODE_NLS_CONFIG={\\\"userLocale\\\":\\\"en-us\\\",\\\"osLocale\\\":\\\"en-us\\\",\\\"resolvedLanguage\\\":\\\"en\\\",\\\"defaultMessagesFile\\\":\\\"/Applications/Visual Studio Code.app/Contents/Resources/app/out/nls.messages.json\\\",\\\"locale\\\":\\\"en-us\\\",\\\"availableLanguages\\\":{}}\", \"CONDA_PYTHON_EXE=/Users/afajardo-ramirez/miniconda3/bin/python\", \"__CF_USER_TEXT_ENCODING=0x1F6:0x0:0x0\", \"VSCODE_PID=77207\"  …  \"HOMEBREW_CELLAR=/opt/homebrew/Cellar\", \"_CONDA_EXE=/Users/afajardo-ramirez/miniconda3/bin/conda\", \"ORIGINAL_XDG_CURRENT_DESKTOP=undefined\", \"FONTCONFIG_PATH=/Users/afajardo-ramirez/.julia/artifacts/886df745cefeb82992e03223358349fb95adde15/etc/fonts\", \"MallocNanoZone=0\", \"CONDA_SHLVL=0\", \"CONDA_EXE=/Users/afajardo-ramirez/miniconda3/bin/conda\", \"HOME=/Users/afajardo-ramirez\", \"LS_COLORS=di=1;36:ln=35:so=32:pi=33:ex=31:bd=34;46:cd=34;43:su=30;41:sg=30;46:tw=30;42:ow=30;43\", \"OPENBLAS_MAIN_FREE=1\"]), ProcessRunning), [2 windows]), 2, true, Channel{Any}(128)))"
      ]
     },
     "metadata": {},
     "output_type": "display_data"
    }
   ],
   "source": [
    "\"\"\"\n",
    "Import data\n",
    "\"\"\"\n",
    "# Import GDP data\n",
    "GDP_df = CSV.read(\"data/GBD/real_gdp_data.csv\", DataFrame, ntasks=1)\n",
    "GDP_df.location_name = string.(GDP_df.location_name)\n",
    "GDP_df.real_gdp_lc[(GDP_df.real_gdp_lc.==\"NA\")] .= \"NaN\"\n",
    "GDP_df.real_gdp_usd[(GDP_df.real_gdp_usd.==\"NA\")] .= \"NaN\"\n",
    "GDP_df.real_gdp_lc = parse.([Float64], GDP_df.real_gdp_lc)\n",
    "GDP_df.real_gdp_usd = parse.([Float64], GDP_df.real_gdp_usd)\n",
    "# FX rate\n",
    "GDP_df.fx_rate = GDP_df.real_gdp_lc ./ GDP_df.real_gdp_usd\n",
    "\n",
    "# Import empirical mortality curve by cause\n",
    "mort_df = CSV.read(\"data/GBD/mortality_data.csv\", DataFrame, ntasks=1)\n",
    "# Import empirical disability curve by cause\n",
    "health_df = CSV.read(\"data/GBD/health_data.csv\", DataFrame, ntasks=1)\n",
    "# Population structure can be staken from mortality data\n",
    "pop_df = mort_df[:, [:location_name, :year, :age, :population]]\n",
    "\n",
    "Voyager(mort_df)"
   ]
  },
  {
   "cell_type": "code",
   "execution_count": null,
   "id": "a547ac1c",
   "metadata": {},
   "outputs": [],
   "source": []
  }
 ],
 "metadata": {
  "kernelspec": {
   "display_name": "Julia 1.11.6",
   "language": "julia",
   "name": "julia-1.11"
  },
  "language_info": {
   "file_extension": ".jl",
   "mimetype": "application/julia",
   "name": "julia",
   "version": "1.11.6"
  }
 },
 "nbformat": 4,
 "nbformat_minor": 5
}
